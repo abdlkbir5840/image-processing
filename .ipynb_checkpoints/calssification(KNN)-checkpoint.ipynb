{
 "cells": [
  {
   "cell_type": "code",
   "execution_count": 24,
   "id": "b5b69a00",
   "metadata": {},
   "outputs": [],
   "source": [
    "import os\n",
    "import cv2 as cv\n",
    "import pandas as pd\n",
    "import numpy as np\n",
    "import matplotlib.pyplot as plt\n",
    "import matplotlib.image as mpimg\n",
    "from ipynb.fs.full.pretraitement import *\n",
    "from ipynb.fs.full.Extraction import *"
   ]
  },
  {
   "cell_type": "code",
   "execution_count": null,
   "id": "fba10edd",
   "metadata": {},
   "outputs": [],
   "source": [
    "\n",
    "data_dire = 'dataset'\n",
    "Classes = ['classe 0', 'classe 1', 'classe 2', 'classe 3', 'classe 4' , 'classe 5', 'classe 6', 'classe 7', 'classe 8', 'classe 9']\n",
    "\n",
    "for classe in Classes:\n",
    "    class_num = Classes.index(classe)\n",
    "#     print(class_num)\n",
    "    path = os.path.join(data_dire, classe)\n",
    "#     print(path)\n",
    "    for img in os.listdir(path):\n",
    "#       print(np.array(cv.imread(os.path.join(path, img))))\n",
    "        img = cv.imread(os.path.join(path, img),0)\n",
    "        imgt = resize(img)\n",
    "        cv.imshow(\"test\",imgt)\n",
    "        cv.waitKey()\n",
    "                         \n",
    "\n",
    "    #print(file_path)\n",
    "\n",
    "    \n",
    "\n",
    "    \n",
    "    "
   ]
  },
  {
   "cell_type": "raw",
   "id": "bcb7385c",
   "metadata": {},
   "source": [
    "# Chemin du répertoire à parcourir\n",
    "root_dir = './dataset'\n",
    "\n",
    "# Liste pour stocker les DataFrames de chaque image\n",
    "df_list = []\n",
    "\n",
    "# Parcourir récursivement tous les répertoires et fichiers\n",
    "for root, dirs, files in os.walk(root_dir):\n",
    "    # Pour chaque fichier dans le répertoire courant\n",
    "    for file in files:\n",
    "        # Si le fichier est une image\n",
    "        if file.endswith('.jpg') or file.endswith('.png'):\n",
    "            # Construire le chemin complet du fichier\n",
    "            file_path = os.path.join(root, file)\n",
    "            # Lire l'image à partir du fichier\n",
    "            image = cv2.imread(file_path)\n",
    "            \n",
    "            image_flat = image.reshape(-1, 3)\n",
    "            # Binarisation de l'image en utilisant un seuil de 127\n",
    "            ret, thresh = cv2.threshold(image_flat, 127, 255, cv2.THRESH_BINARY)\n",
    "            inverted_image = cv2.bitwise_not(thresh)\n",
    "            # Convertir le tableau NumPy en DataFrame pandas\n",
    "            df = pd.DataFrame(inverted_image)\n",
    "            # Ajouter le DataFrame à la liste\n",
    "            df_list.append(df)\n",
    "\n",
    "# Concaténer tous les DataFrames de la liste en un seul DataFrame\n",
    "result = pd.concat(df_list)\n",
    "\n",
    "# Enregistrer le DataFrame final dans un fichier Excel\n",
    "result.to_excel('image_matrices.xlsx', index=False)\n",
    "\n"
   ]
  },
  {
   "cell_type": "code",
   "execution_count": null,
   "id": "11bd06ec",
   "metadata": {},
   "outputs": [],
   "source": []
  }
 ],
 "metadata": {
  "kernelspec": {
   "display_name": "Python 3 (ipykernel)",
   "language": "python",
   "name": "python3"
  },
  "language_info": {
   "codemirror_mode": {
    "name": "ipython",
    "version": 3
   },
   "file_extension": ".py",
   "mimetype": "text/x-python",
   "name": "python",
   "nbconvert_exporter": "python",
   "pygments_lexer": "ipython3",
   "version": "3.9.12"
  }
 },
 "nbformat": 4,
 "nbformat_minor": 5
}
