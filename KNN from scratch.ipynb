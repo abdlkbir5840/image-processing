{
 "cells": [
  {
   "cell_type": "code",
   "execution_count": 2,
   "id": "48ae7d91",
   "metadata": {},
   "outputs": [],
   "source": [
    "import os\n",
    "import cv2 as cv\n",
    "import pandas as pd\n",
    "import numpy as np\n",
    "import matplotlib.pyplot as plt\n",
    "import matplotlib.image as mpimg\n",
    "from ipynb.fs.full.pretraitement import *\n",
    "from ipynb.fs.full.Extraction import *\n",
    "import csv\n",
    "from sklearn.model_selection import train_test_split"
   ]
  },
  {
   "cell_type": "code",
   "execution_count": 3,
   "id": "f245eb57",
   "metadata": {},
   "outputs": [],
   "source": [
    "import math\n",
    "def distance_euclidienne(p1,p2):\n",
    "    distance = 0\n",
    "    for col in range(len(p1)-1):\n",
    "        distance = distance + ((p1[col]-p2[col])**2)\n",
    "    return math.sqrt(distance)"
   ]
  },
  {
   "cell_type": "code",
   "execution_count": 4,
   "id": "24d1b40f",
   "metadata": {},
   "outputs": [],
   "source": [
    "def knn_from_scratch(x_train,x_test,k):\n",
    "    Ress = np.zeros( [len(x_test),1])\n",
    "    for point in range(len(x_test)):\n",
    "        distances = np.zeros([len(x_train),2])\n",
    "        vots = np.zeros( [k,2])\n",
    "        for row in range(len(x_train)):\n",
    "            distances[row,0] = distance_euclidienne(x_train[row], x_test[point])\n",
    "            distances[row,1] = x_train[row][len(x_train[row])-1]\n",
    "        distances = distances[distances[:, 0].argsort()]\n",
    "        distances = distances[:,:k]\n",
    "        liste = []\n",
    "        for i in range(k):\n",
    "            liste.append(distances[i])\n",
    "        \n",
    "        for x in range(k):\n",
    "            temp = 0\n",
    "            classe = liste[x][1]\n",
    "            for y in range(k):\n",
    "                if classe == liste[y][1]:\n",
    "                    temp = temp + 1\n",
    "            vots[x,0] = classe\n",
    "            vots[x,1] = temp\n",
    "        vots = vots[vots[:, 1].sort()]\n",
    "        maxe = vots[0,len(vots)-1,0]\n",
    "        Ress[point,0] = maxe \n",
    "    return Ress\n",
    "        "
   ]
  },
  {
   "cell_type": "code",
   "execution_count": 5,
   "id": "222bc0a4",
   "metadata": {},
   "outputs": [
    {
     "data": {
      "text/html": [
       "<div>\n",
       "<style scoped>\n",
       "    .dataframe tbody tr th:only-of-type {\n",
       "        vertical-align: middle;\n",
       "    }\n",
       "\n",
       "    .dataframe tbody tr th {\n",
       "        vertical-align: top;\n",
       "    }\n",
       "\n",
       "    .dataframe thead th {\n",
       "        text-align: right;\n",
       "    }\n",
       "</style>\n",
       "<table border=\"1\" class=\"dataframe\">\n",
       "  <thead>\n",
       "    <tr style=\"text-align: right;\">\n",
       "      <th></th>\n",
       "      <th>phi0</th>\n",
       "      <th>phi1</th>\n",
       "      <th>phi2</th>\n",
       "      <th>phi3</th>\n",
       "      <th>phi4</th>\n",
       "      <th>phi5</th>\n",
       "      <th>phi6</th>\n",
       "      <th>classe</th>\n",
       "    </tr>\n",
       "  </thead>\n",
       "  <tbody>\n",
       "    <tr>\n",
       "      <th>0</th>\n",
       "      <td>0.000221</td>\n",
       "      <td>4.890000e-08</td>\n",
       "      <td>2.220000e-12</td>\n",
       "      <td>2.220000e-12</td>\n",
       "      <td>4.950000e-24</td>\n",
       "      <td>4.920000e-16</td>\n",
       "      <td>-4.950000e-24</td>\n",
       "      <td>0</td>\n",
       "    </tr>\n",
       "    <tr>\n",
       "      <th>1</th>\n",
       "      <td>0.000172</td>\n",
       "      <td>2.960000e-08</td>\n",
       "      <td>2.030000e-12</td>\n",
       "      <td>2.030000e-12</td>\n",
       "      <td>4.110000e-24</td>\n",
       "      <td>3.490000e-16</td>\n",
       "      <td>-4.110000e-24</td>\n",
       "      <td>0</td>\n",
       "    </tr>\n",
       "    <tr>\n",
       "      <th>2</th>\n",
       "      <td>0.000145</td>\n",
       "      <td>2.110000e-08</td>\n",
       "      <td>1.210000e-13</td>\n",
       "      <td>1.210000e-13</td>\n",
       "      <td>1.450000e-26</td>\n",
       "      <td>1.750000e-17</td>\n",
       "      <td>-1.450000e-26</td>\n",
       "      <td>0</td>\n",
       "    </tr>\n",
       "    <tr>\n",
       "      <th>3</th>\n",
       "      <td>0.000223</td>\n",
       "      <td>4.960000e-08</td>\n",
       "      <td>2.210000e-12</td>\n",
       "      <td>2.210000e-12</td>\n",
       "      <td>4.890000e-24</td>\n",
       "      <td>4.920000e-16</td>\n",
       "      <td>-4.890000e-24</td>\n",
       "      <td>0</td>\n",
       "    </tr>\n",
       "    <tr>\n",
       "      <th>4</th>\n",
       "      <td>0.000180</td>\n",
       "      <td>3.240000e-08</td>\n",
       "      <td>1.460000e-12</td>\n",
       "      <td>1.460000e-12</td>\n",
       "      <td>2.130000e-24</td>\n",
       "      <td>2.620000e-16</td>\n",
       "      <td>-2.130000e-24</td>\n",
       "      <td>0</td>\n",
       "    </tr>\n",
       "    <tr>\n",
       "      <th>...</th>\n",
       "      <td>...</td>\n",
       "      <td>...</td>\n",
       "      <td>...</td>\n",
       "      <td>...</td>\n",
       "      <td>...</td>\n",
       "      <td>...</td>\n",
       "      <td>...</td>\n",
       "      <td>...</td>\n",
       "    </tr>\n",
       "    <tr>\n",
       "      <th>53995</th>\n",
       "      <td>0.000154</td>\n",
       "      <td>2.370000e-08</td>\n",
       "      <td>2.740000e-13</td>\n",
       "      <td>2.740000e-13</td>\n",
       "      <td>7.530000e-26</td>\n",
       "      <td>4.220000e-17</td>\n",
       "      <td>-7.530000e-26</td>\n",
       "      <td>9</td>\n",
       "    </tr>\n",
       "    <tr>\n",
       "      <th>53996</th>\n",
       "      <td>0.000133</td>\n",
       "      <td>1.770000e-08</td>\n",
       "      <td>8.860000e-14</td>\n",
       "      <td>8.860000e-14</td>\n",
       "      <td>7.860000e-27</td>\n",
       "      <td>1.180000e-17</td>\n",
       "      <td>-7.860000e-27</td>\n",
       "      <td>9</td>\n",
       "    </tr>\n",
       "    <tr>\n",
       "      <th>53997</th>\n",
       "      <td>0.000150</td>\n",
       "      <td>2.240000e-08</td>\n",
       "      <td>8.300000e-14</td>\n",
       "      <td>8.300000e-14</td>\n",
       "      <td>6.890000e-27</td>\n",
       "      <td>1.240000e-17</td>\n",
       "      <td>-6.890000e-27</td>\n",
       "      <td>9</td>\n",
       "    </tr>\n",
       "    <tr>\n",
       "      <th>53998</th>\n",
       "      <td>0.000140</td>\n",
       "      <td>1.950000e-08</td>\n",
       "      <td>7.240000e-14</td>\n",
       "      <td>7.240000e-14</td>\n",
       "      <td>5.240000e-27</td>\n",
       "      <td>1.010000e-17</td>\n",
       "      <td>-5.240000e-27</td>\n",
       "      <td>9</td>\n",
       "    </tr>\n",
       "    <tr>\n",
       "      <th>53999</th>\n",
       "      <td>0.000137</td>\n",
       "      <td>1.860000e-08</td>\n",
       "      <td>5.890000e-13</td>\n",
       "      <td>5.890000e-13</td>\n",
       "      <td>3.470000e-25</td>\n",
       "      <td>8.050000e-17</td>\n",
       "      <td>-3.470000e-25</td>\n",
       "      <td>9</td>\n",
       "    </tr>\n",
       "  </tbody>\n",
       "</table>\n",
       "<p>54000 rows × 8 columns</p>\n",
       "</div>"
      ],
      "text/plain": [
       "           phi0          phi1          phi2          phi3          phi4  \\\n",
       "0      0.000221  4.890000e-08  2.220000e-12  2.220000e-12  4.950000e-24   \n",
       "1      0.000172  2.960000e-08  2.030000e-12  2.030000e-12  4.110000e-24   \n",
       "2      0.000145  2.110000e-08  1.210000e-13  1.210000e-13  1.450000e-26   \n",
       "3      0.000223  4.960000e-08  2.210000e-12  2.210000e-12  4.890000e-24   \n",
       "4      0.000180  3.240000e-08  1.460000e-12  1.460000e-12  2.130000e-24   \n",
       "...         ...           ...           ...           ...           ...   \n",
       "53995  0.000154  2.370000e-08  2.740000e-13  2.740000e-13  7.530000e-26   \n",
       "53996  0.000133  1.770000e-08  8.860000e-14  8.860000e-14  7.860000e-27   \n",
       "53997  0.000150  2.240000e-08  8.300000e-14  8.300000e-14  6.890000e-27   \n",
       "53998  0.000140  1.950000e-08  7.240000e-14  7.240000e-14  5.240000e-27   \n",
       "53999  0.000137  1.860000e-08  5.890000e-13  5.890000e-13  3.470000e-25   \n",
       "\n",
       "               phi5          phi6  classe  \n",
       "0      4.920000e-16 -4.950000e-24       0  \n",
       "1      3.490000e-16 -4.110000e-24       0  \n",
       "2      1.750000e-17 -1.450000e-26       0  \n",
       "3      4.920000e-16 -4.890000e-24       0  \n",
       "4      2.620000e-16 -2.130000e-24       0  \n",
       "...             ...           ...     ...  \n",
       "53995  4.220000e-17 -7.530000e-26       9  \n",
       "53996  1.180000e-17 -7.860000e-27       9  \n",
       "53997  1.240000e-17 -6.890000e-27       9  \n",
       "53998  1.010000e-17 -5.240000e-27       9  \n",
       "53999  8.050000e-17 -3.470000e-25       9  \n",
       "\n",
       "[54000 rows x 8 columns]"
      ]
     },
     "execution_count": 5,
     "metadata": {},
     "output_type": "execute_result"
    }
   ],
   "source": [
    "\n",
    "data = pd.read_csv(\"data.csv\")\n",
    "data"
   ]
  },
  {
   "cell_type": "code",
   "execution_count": 7,
   "id": "62871296",
   "metadata": {},
   "outputs": [],
   "source": [
    "X = data.iloc[:,:].values\n",
    "Y = data.iloc[:,-1].values"
   ]
  },
  {
   "cell_type": "code",
   "execution_count": 8,
   "id": "12c94078",
   "metadata": {},
   "outputs": [],
   "source": [
    "X_train, X_test, Y_train, Y_test = train_test_split(X, Y, test_size = 0.2)"
   ]
  },
  {
   "cell_type": "code",
   "execution_count": 9,
   "id": "d74d1981",
   "metadata": {},
   "outputs": [],
   "source": [
    "X_test = X_test[:,:-1]"
   ]
  },
  {
   "cell_type": "code",
   "execution_count": 10,
   "id": "53251d92",
   "metadata": {},
   "outputs": [],
   "source": [
    "y_pred = knn_from_scratch(X_train,X_test,3)\n"
   ]
  },
  {
   "cell_type": "code",
   "execution_count": 11,
   "id": "ea8c4038",
   "metadata": {},
   "outputs": [
    {
     "data": {
      "text/plain": [
       "array([7, 6, 2, ..., 6, 8, 1], dtype=int64)"
      ]
     },
     "execution_count": 11,
     "metadata": {},
     "output_type": "execute_result"
    }
   ],
   "source": [
    "Y_test"
   ]
  },
  {
   "cell_type": "code",
   "execution_count": 78,
   "id": "a8432c37",
   "metadata": {},
   "outputs": [
    {
     "name": "stdout",
     "output_type": "stream",
     "text": [
      "le taux de classification : 10.0\n",
      "le taux d'erreur :  90.0\n"
     ]
    }
   ],
   "source": [
    "# Taux de Classification & Taux d'erreur\n",
    "som = 0\n",
    "for x in range(len(y_pred)):\n",
    "    if Y_test[x] - y_pred[x] == 0:\n",
    "        som = som + 1\n",
    "Tclass = (som / len(y_pred))*100\n",
    "Terr = 100 - Tclass\n",
    "print(\"le taux de classification :\", Tclass)\n",
    "print(\"le taux d'erreur : \", Terr)"
   ]
  },
  {
   "cell_type": "code",
   "execution_count": 73,
   "id": "f09cc972",
   "metadata": {},
   "outputs": [
    {
     "data": {
      "text/plain": [
       "array([[5.],\n",
       "       [7.],\n",
       "       [7.],\n",
       "       [4.],\n",
       "       [9.],\n",
       "       [2.],\n",
       "       [8.],\n",
       "       [5.],\n",
       "       [4.],\n",
       "       [1.],\n",
       "       [7.],\n",
       "       [5.],\n",
       "       [6.],\n",
       "       [3.],\n",
       "       [8.],\n",
       "       [6.],\n",
       "       [0.],\n",
       "       [9.],\n",
       "       [6.],\n",
       "       [6.]])"
      ]
     },
     "execution_count": 73,
     "metadata": {},
     "output_type": "execute_result"
    }
   ],
   "source": [
    "y_pred"
   ]
  },
  {
   "cell_type": "code",
   "execution_count": null,
   "id": "130b28ed",
   "metadata": {},
   "outputs": [],
   "source": []
  }
 ],
 "metadata": {
  "kernelspec": {
   "display_name": "Python 3 (ipykernel)",
   "language": "python",
   "name": "python3"
  },
  "language_info": {
   "codemirror_mode": {
    "name": "ipython",
    "version": 3
   },
   "file_extension": ".py",
   "mimetype": "text/x-python",
   "name": "python",
   "nbconvert_exporter": "python",
   "pygments_lexer": "ipython3",
   "version": "3.9.12"
  }
 },
 "nbformat": 4,
 "nbformat_minor": 5
}
