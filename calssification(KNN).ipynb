{
 "cells": [
  {
   "cell_type": "code",
   "execution_count": 1,
   "id": "b5b69a00",
   "metadata": {},
   "outputs": [],
   "source": [
    "import os\n",
    "import cv2 as cv\n",
    "import pandas as pd\n",
    "import numpy as np\n",
    "import matplotlib.pyplot as plt\n",
    "import matplotlib.image as mpimg\n",
    "from ipynb.fs.full.pretraitement import *\n",
    "from ipynb.fs.full.Extraction import *\n",
    "import csv"
   ]
  },
  {
   "cell_type": "code",
   "execution_count": 164,
   "id": "fba10edd",
   "metadata": {},
   "outputs": [],
   "source": [
    "data_dire = 'dataset'\n",
    "Classes = ['classe 0', 'classe 1', 'classe 2', 'classe 3', 'classe 4' , 'classe 5', 'classe 6', 'classe 7', 'classe 8', 'classe 9']\n",
    "\n",
    "header = [\"phi0\", \"phi1\", \"phi2\", \"phi3\", \"phi4\", \"phi5\", \"phi6\",\"classe\"]\n",
    "data = []\n",
    "data2 = []\n",
    "for classe in Classes:\n",
    "    class_num = Classes.index(classe)\n",
    "    path = os.path.join(data_dire, classe)\n",
    "    for img in os.listdir(path):\n",
    "        img = cv.imread(os.path.join(path, img),0)\n",
    "        img_bin = IMAGE_BIN (img)\n",
    "        img_resize = resize(img_bin)\n",
    "        momentHU(img_bin, class_num)\n",
    "        data.append(momentHU(img_bin, class_num))"
   ]
  },
  {
   "cell_type": "code",
   "execution_count": 3,
   "id": "2762ae9e",
   "metadata": {},
   "outputs": [],
   "source": [
    "with open('numbers.csv', 'w', encoding='UTF8', newline='') as f:\n",
    "            writer = csv.writer(f)\n",
    "            # write the header\n",
    "            writer.writerow(header)\n",
    "            # write multiple rows\n",
    "            writer.writerows(data)"
   ]
  },
  {
   "cell_type": "code",
   "execution_count": 4,
   "id": "c8321372",
   "metadata": {},
   "outputs": [],
   "source": [
    "from sklearn.model_selection import train_test_split\n",
    "from sklearn.neighbors import KNeighborsClassifier\n",
    "from sklearn.metrics import confusion_matrix"
   ]
  },
  {
   "cell_type": "code",
   "execution_count": 185,
   "id": "e69815b3",
   "metadata": {},
   "outputs": [
    {
     "data": {
      "text/html": [
       "<div>\n",
       "<style scoped>\n",
       "    .dataframe tbody tr th:only-of-type {\n",
       "        vertical-align: middle;\n",
       "    }\n",
       "\n",
       "    .dataframe tbody tr th {\n",
       "        vertical-align: top;\n",
       "    }\n",
       "\n",
       "    .dataframe thead th {\n",
       "        text-align: right;\n",
       "    }\n",
       "</style>\n",
       "<table border=\"1\" class=\"dataframe\">\n",
       "  <thead>\n",
       "    <tr style=\"text-align: right;\">\n",
       "      <th></th>\n",
       "      <th>phi0</th>\n",
       "      <th>phi1</th>\n",
       "      <th>phi2</th>\n",
       "      <th>phi3</th>\n",
       "      <th>phi4</th>\n",
       "      <th>phi5</th>\n",
       "      <th>phi6</th>\n",
       "      <th>classe</th>\n",
       "    </tr>\n",
       "  </thead>\n",
       "  <tbody>\n",
       "    <tr>\n",
       "      <th>0</th>\n",
       "      <td>1.073741e-06</td>\n",
       "      <td>2.971326e-11</td>\n",
       "      <td>1.802183e-15</td>\n",
       "      <td>5.986776e-16</td>\n",
       "      <td>1.653600e-32</td>\n",
       "      <td>1.545063e-21</td>\n",
       "      <td>-7.442103e-31</td>\n",
       "      <td>0.0</td>\n",
       "    </tr>\n",
       "    <tr>\n",
       "      <th>1</th>\n",
       "      <td>-7.975035e-07</td>\n",
       "      <td>1.096280e-11</td>\n",
       "      <td>1.721708e-17</td>\n",
       "      <td>1.490124e-16</td>\n",
       "      <td>-1.348653e-32</td>\n",
       "      <td>2.476004e-22</td>\n",
       "      <td>1.084656e-32</td>\n",
       "      <td>0.0</td>\n",
       "    </tr>\n",
       "    <tr>\n",
       "      <th>2</th>\n",
       "      <td>7.754815e-07</td>\n",
       "      <td>2.773352e-11</td>\n",
       "      <td>8.959879e-16</td>\n",
       "      <td>2.100564e-16</td>\n",
       "      <td>-8.934321e-32</td>\n",
       "      <td>4.025988e-22</td>\n",
       "      <td>-3.349150e-32</td>\n",
       "      <td>0.0</td>\n",
       "    </tr>\n",
       "    <tr>\n",
       "      <th>3</th>\n",
       "      <td>1.650554e-06</td>\n",
       "      <td>1.948070e-11</td>\n",
       "      <td>1.493559e-18</td>\n",
       "      <td>3.751338e-18</td>\n",
       "      <td>4.341305e-35</td>\n",
       "      <td>9.821881e-24</td>\n",
       "      <td>-1.274203e-35</td>\n",
       "      <td>0.0</td>\n",
       "    </tr>\n",
       "    <tr>\n",
       "      <th>4</th>\n",
       "      <td>1.200466e-06</td>\n",
       "      <td>1.722573e-11</td>\n",
       "      <td>3.589239e-16</td>\n",
       "      <td>2.533735e-18</td>\n",
       "      <td>-8.015343e-35</td>\n",
       "      <td>-5.816456e-24</td>\n",
       "      <td>2.060435e-35</td>\n",
       "      <td>0.0</td>\n",
       "    </tr>\n",
       "    <tr>\n",
       "      <th>...</th>\n",
       "      <td>...</td>\n",
       "      <td>...</td>\n",
       "      <td>...</td>\n",
       "      <td>...</td>\n",
       "      <td>...</td>\n",
       "      <td>...</td>\n",
       "      <td>...</td>\n",
       "      <td>...</td>\n",
       "    </tr>\n",
       "    <tr>\n",
       "      <th>95</th>\n",
       "      <td>6.468783e-06</td>\n",
       "      <td>8.214043e-11</td>\n",
       "      <td>2.200449e-14</td>\n",
       "      <td>2.130184e-14</td>\n",
       "      <td>6.404784e-28</td>\n",
       "      <td>1.519915e-19</td>\n",
       "      <td>-5.095622e-28</td>\n",
       "      <td>9.0</td>\n",
       "    </tr>\n",
       "    <tr>\n",
       "      <th>96</th>\n",
       "      <td>2.810488e-06</td>\n",
       "      <td>8.051830e-12</td>\n",
       "      <td>4.649217e-16</td>\n",
       "      <td>8.548272e-17</td>\n",
       "      <td>-3.288944e-33</td>\n",
       "      <td>2.182006e-22</td>\n",
       "      <td>-2.019328e-32</td>\n",
       "      <td>9.0</td>\n",
       "    </tr>\n",
       "    <tr>\n",
       "      <th>97</th>\n",
       "      <td>1.862030e-06</td>\n",
       "      <td>2.152441e-11</td>\n",
       "      <td>6.324359e-15</td>\n",
       "      <td>2.253818e-15</td>\n",
       "      <td>1.168147e-29</td>\n",
       "      <td>5.872693e-21</td>\n",
       "      <td>-6.538515e-30</td>\n",
       "      <td>9.0</td>\n",
       "    </tr>\n",
       "    <tr>\n",
       "      <th>98</th>\n",
       "      <td>1.579390e-06</td>\n",
       "      <td>2.045441e-11</td>\n",
       "      <td>7.699110e-15</td>\n",
       "      <td>7.059244e-15</td>\n",
       "      <td>9.777160e-29</td>\n",
       "      <td>1.816453e-20</td>\n",
       "      <td>6.757334e-29</td>\n",
       "      <td>9.0</td>\n",
       "    </tr>\n",
       "    <tr>\n",
       "      <th>99</th>\n",
       "      <td>1.738677e-06</td>\n",
       "      <td>3.901371e-12</td>\n",
       "      <td>4.522435e-15</td>\n",
       "      <td>1.873997e-15</td>\n",
       "      <td>7.335441e-30</td>\n",
       "      <td>3.298202e-21</td>\n",
       "      <td>-8.164324e-31</td>\n",
       "      <td>9.0</td>\n",
       "    </tr>\n",
       "  </tbody>\n",
       "</table>\n",
       "<p>100 rows × 8 columns</p>\n",
       "</div>"
      ],
      "text/plain": [
       "            phi0          phi1          phi2          phi3          phi4  \\\n",
       "0   1.073741e-06  2.971326e-11  1.802183e-15  5.986776e-16  1.653600e-32   \n",
       "1  -7.975035e-07  1.096280e-11  1.721708e-17  1.490124e-16 -1.348653e-32   \n",
       "2   7.754815e-07  2.773352e-11  8.959879e-16  2.100564e-16 -8.934321e-32   \n",
       "3   1.650554e-06  1.948070e-11  1.493559e-18  3.751338e-18  4.341305e-35   \n",
       "4   1.200466e-06  1.722573e-11  3.589239e-16  2.533735e-18 -8.015343e-35   \n",
       "..           ...           ...           ...           ...           ...   \n",
       "95  6.468783e-06  8.214043e-11  2.200449e-14  2.130184e-14  6.404784e-28   \n",
       "96  2.810488e-06  8.051830e-12  4.649217e-16  8.548272e-17 -3.288944e-33   \n",
       "97  1.862030e-06  2.152441e-11  6.324359e-15  2.253818e-15  1.168147e-29   \n",
       "98  1.579390e-06  2.045441e-11  7.699110e-15  7.059244e-15  9.777160e-29   \n",
       "99  1.738677e-06  3.901371e-12  4.522435e-15  1.873997e-15  7.335441e-30   \n",
       "\n",
       "            phi5          phi6  classe  \n",
       "0   1.545063e-21 -7.442103e-31     0.0  \n",
       "1   2.476004e-22  1.084656e-32     0.0  \n",
       "2   4.025988e-22 -3.349150e-32     0.0  \n",
       "3   9.821881e-24 -1.274203e-35     0.0  \n",
       "4  -5.816456e-24  2.060435e-35     0.0  \n",
       "..           ...           ...     ...  \n",
       "95  1.519915e-19 -5.095622e-28     9.0  \n",
       "96  2.182006e-22 -2.019328e-32     9.0  \n",
       "97  5.872693e-21 -6.538515e-30     9.0  \n",
       "98  1.816453e-20  6.757334e-29     9.0  \n",
       "99  3.298202e-21 -8.164324e-31     9.0  \n",
       "\n",
       "[100 rows x 8 columns]"
      ]
     },
     "execution_count": 185,
     "metadata": {},
     "output_type": "execute_result"
    }
   ],
   "source": [
    "data = pd.read_csv(\"numbers.csv\")\n",
    "data"
   ]
  },
  {
   "cell_type": "code",
   "execution_count": 188,
   "id": "521206f6",
   "metadata": {},
   "outputs": [
    {
     "data": {
      "text/plain": [
       "array([0., 0., 0., 0., 0., 0., 0., 0., 0., 0., 1., 1., 1., 1., 1., 1., 1.,\n",
       "       1., 1., 1., 2., 2., 2., 2., 2., 2., 2., 2., 2., 2., 3., 3., 3., 3.,\n",
       "       3., 3., 3., 3., 3., 3., 4., 4., 4., 4., 4., 4., 4., 4., 4., 4., 5.,\n",
       "       5., 5., 5., 5., 5., 5., 5., 5., 5., 6., 6., 6., 6., 6., 6., 6., 6.,\n",
       "       6., 6., 7., 7., 7., 7., 7., 7., 7., 7., 7., 7., 8., 8., 8., 8., 8.,\n",
       "       8., 8., 8., 8., 8., 9., 9., 9., 9., 9., 9., 9., 9., 9., 9.])"
      ]
     },
     "execution_count": 188,
     "metadata": {},
     "output_type": "execute_result"
    }
   ],
   "source": [
    "X = data.iloc[:,:-1].values\n",
    "Y = data.iloc[:,-1].values\n",
    "Y"
   ]
  },
  {
   "cell_type": "code",
   "execution_count": 189,
   "id": "649bc720",
   "metadata": {},
   "outputs": [
    {
     "data": {
      "image/png": "[encoded data removed]",
      "text/plain": [
       "<Figure size 432x288 with 1 Axes>"
      ]
     },
     "metadata": {
      "needs_background": "light"
     },
     "output_type": "display_data"
    }
   ],
   "source": [
    "plt.scatter(data['phi1'], Y)\n",
    "plt.show()"
   ]
  },
  {
   "cell_type": "code",
   "execution_count": 190,
   "id": "295282af",
   "metadata": {},
   "outputs": [],
   "source": [
    "X_train, X_test, Y_train, Y_test = train_test_split(X, Y, test_size = 0.2)"
   ]
  },
  {
   "cell_type": "code",
   "execution_count": 195,
   "id": "8ed6763f",
   "metadata": {},
   "outputs": [
    {
     "data": {
      "text/plain": [
       "KNeighborsClassifier()"
      ]
     },
     "execution_count": 195,
     "metadata": {},
     "output_type": "execute_result"
    }
   ],
   "source": [
    "knn = KNeighborsClassifier(n_neighbors = 5)\n",
    "knn.fit(X_train, Y_train)"
   ]
  },
  {
   "cell_type": "code",
   "execution_count": 196,
   "id": "3301cab3",
   "metadata": {},
   "outputs": [
    {
     "name": "stdout",
     "output_type": "stream",
     "text": [
      "taux de classification: 30.0%\n",
      "taux d'erreur: 70.0%\n"
     ]
    }
   ],
   "source": [
    "score = knn.score(X_test,Y_test)\n",
    "print(f'taux de classification: {score*100}%')\n",
    "print(f\"taux d'erreur: {100-score*100}%\")"
   ]
  },
  {
   "cell_type": "code",
   "execution_count": 131,
   "id": "9054f150",
   "metadata": {},
   "outputs": [
    {
     "data": {
      "text/plain": [
       "array([6., 0., 0., 0., 0., 8., 8., 1., 1., 1., 2., 4., 1., 4., 8., 8., 4.,\n",
       "       2., 4., 1.])"
      ]
     },
     "execution_count": 131,
     "metadata": {},
     "output_type": "execute_result"
    }
   ],
   "source": [
    "Y_pred = knn.predict(X_test)\n",
    "Y_pred"
   ]
  },
  {
   "cell_type": "code",
   "execution_count": 132,
   "id": "5d500cf2",
   "metadata": {},
   "outputs": [
    {
     "data": {
      "text/plain": [
       "array([8., 3., 7., 2., 5., 9., 5., 7., 1., 1., 2., 4., 9., 7., 7., 3., 5.,\n",
       "       2., 4., 8.])"
      ]
     },
     "execution_count": 132,
     "metadata": {},
     "output_type": "execute_result"
    }
   ],
   "source": [
    "Y_test"
   ]
  }
 ],
 "metadata": {
  "kernelspec": {
   "display_name": "Python 3 (ipykernel)",
   "language": "python",
   "name": "python3"
  },
  "language_info": {
   "codemirror_mode": {
    "name": "ipython",
    "version": 3
   },
   "file_extension": ".py",
   "mimetype": "text/x-python",
   "name": "python",
   "nbconvert_exporter": "python",
   "pygments_lexer": "ipython3",
   "version": "3.9.12"
  },
  "vscode": {
   "interpreter": {
    "hash": "56a854edc61c4c9289dbe99e26bd92095710d3e25e8b605dd86e138066f44f16"
   }
  }
 },
 "nbformat": 4,
 "nbformat_minor": 5
}
