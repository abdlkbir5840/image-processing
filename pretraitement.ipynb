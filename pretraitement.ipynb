{
 "cells": [
  {
   "cell_type": "markdown",
   "id": "6f72c009",
   "metadata": {},
   "source": [
    "# library"
   ]
  },
  {
   "cell_type": "code",
   "execution_count": 14,
   "id": "e4ac20ce",
   "metadata": {},
   "outputs": [],
   "source": [
    "import cv2 as cv\n",
    "import numpy as np\n",
    "import math\n",
    "import matplotlib.pyplot as plt\n",
    "import os\n",
    "import matplotlib.pyplot as plt\n",
    "import matplotlib.image as mpimg"
   ]
  },
  {
   "cell_type": "markdown",
   "id": "8e6ff818",
   "metadata": {},
   "source": [
    "# image binaire"
   ]
  },
  {
   "cell_type": "code",
   "execution_count": 75,
   "id": "60b4ae1f",
   "metadata": {},
   "outputs": [],
   "source": [
    "def IMAGE_BIN (img):\n",
    "    h,l = img.shape\n",
    "    sum = 0\n",
    "    for i in range(h):\n",
    "        for j in range(l):\n",
    "            sum =sum + img[i,j]\n",
    "    seuil = sum/(l*h)\n",
    "    img_bin = img.copy()\n",
    "    img_bin = img_bin/255\n",
    "    for i in range(h):\n",
    "        for j in range(l):\n",
    "            if img[i,j]<seuil:\n",
    "                img_bin[i,j] = 0\n",
    "            else: \n",
    "                img_bin[i,j] = 255\n",
    "    return img_bin"
   ]
  },
  {
   "cell_type": "markdown",
   "id": "1e2d6634",
   "metadata": {},
   "source": [
    "# image inverse"
   ]
  },
  {
   "cell_type": "code",
   "execution_count": 7,
   "id": "f27611e7",
   "metadata": {},
   "outputs": [],
   "source": [
    "def inverse(img):\n",
    "    img_inv = IMAGE_BIN(img)\n",
    "    h,l = img_inv.shape\n",
    "    for i in range(h):\n",
    "        for j in range(l):\n",
    "            if img_inv[i,j]==1:\n",
    "                img_inv[i,j] = 0\n",
    "            else: \n",
    "                img_inv[i,j] = 1\n",
    "    return img_inv"
   ]
  },
  {
   "cell_type": "markdown",
   "id": "a8a54270",
   "metadata": {},
   "source": [
    "# resize"
   ]
  },
  {
   "cell_type": "code",
   "execution_count": 82,
   "id": "8a2eb160",
   "metadata": {},
   "outputs": [],
   "source": [
    "def resize(img):\n",
    "    img_res = cv.resize(img, (500, 500))\n",
    "    return img_res"
   ]
  },
  {
   "cell_type": "code",
   "execution_count": null,
   "id": "77dc24e9",
   "metadata": {},
   "outputs": [],
   "source": []
  }
 ],
 "metadata": {
  "kernelspec": {
   "display_name": "Python 3 (ipykernel)",
   "language": "python",
   "name": "python3"
  },
  "language_info": {
   "codemirror_mode": {
    "name": "ipython",
    "version": 3
   },
   "file_extension": ".py",
   "mimetype": "text/x-python",
   "name": "python",
   "nbconvert_exporter": "python",
   "pygments_lexer": "ipython3",
   "version": "3.9.12"
  }
 },
 "nbformat": 4,
 "nbformat_minor": 5
}
