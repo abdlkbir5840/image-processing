{
 "cells": [
  {
   "cell_type": "code",
   "execution_count": 5,
   "id": "6eed1b33",
   "metadata": {},
   "outputs": [],
   "source": [
    "import pandas as pd\n",
    "import numpy as np\n",
    "from sklearn.neural_network import MLPClassifier\n",
    "from sklearn.model_selection import train_test_split"
   ]
  },
  {
   "cell_type": "code",
   "execution_count": 2,
   "id": "1e0ab238",
   "metadata": {},
   "outputs": [
    {
     "data": {
      "text/html": [
       "<div>\n",
       "<style scoped>\n",
       "    .dataframe tbody tr th:only-of-type {\n",
       "        vertical-align: middle;\n",
       "    }\n",
       "\n",
       "    .dataframe tbody tr th {\n",
       "        vertical-align: top;\n",
       "    }\n",
       "\n",
       "    .dataframe thead th {\n",
       "        text-align: right;\n",
       "    }\n",
       "</style>\n",
       "<table border=\"1\" class=\"dataframe\">\n",
       "  <thead>\n",
       "    <tr style=\"text-align: right;\">\n",
       "      <th></th>\n",
       "      <th>phi0</th>\n",
       "      <th>phi1</th>\n",
       "      <th>phi2</th>\n",
       "      <th>phi3</th>\n",
       "      <th>phi4</th>\n",
       "      <th>phi5</th>\n",
       "      <th>phi6</th>\n",
       "      <th>classe</th>\n",
       "    </tr>\n",
       "  </thead>\n",
       "  <tbody>\n",
       "    <tr>\n",
       "      <th>0</th>\n",
       "      <td>1.073741e-06</td>\n",
       "      <td>2.971326e-11</td>\n",
       "      <td>1.802183e-15</td>\n",
       "      <td>5.986776e-16</td>\n",
       "      <td>1.653600e-32</td>\n",
       "      <td>1.545063e-21</td>\n",
       "      <td>-7.442103e-31</td>\n",
       "      <td>0.0</td>\n",
       "    </tr>\n",
       "    <tr>\n",
       "      <th>1</th>\n",
       "      <td>-7.975035e-07</td>\n",
       "      <td>1.096280e-11</td>\n",
       "      <td>1.721708e-17</td>\n",
       "      <td>1.490124e-16</td>\n",
       "      <td>-1.348653e-32</td>\n",
       "      <td>2.476004e-22</td>\n",
       "      <td>1.084656e-32</td>\n",
       "      <td>0.0</td>\n",
       "    </tr>\n",
       "    <tr>\n",
       "      <th>2</th>\n",
       "      <td>7.754815e-07</td>\n",
       "      <td>2.773352e-11</td>\n",
       "      <td>8.959879e-16</td>\n",
       "      <td>2.100564e-16</td>\n",
       "      <td>-8.934321e-32</td>\n",
       "      <td>4.025988e-22</td>\n",
       "      <td>-3.349150e-32</td>\n",
       "      <td>0.0</td>\n",
       "    </tr>\n",
       "    <tr>\n",
       "      <th>3</th>\n",
       "      <td>1.650554e-06</td>\n",
       "      <td>1.948070e-11</td>\n",
       "      <td>1.493559e-18</td>\n",
       "      <td>3.751338e-18</td>\n",
       "      <td>4.341305e-35</td>\n",
       "      <td>9.821881e-24</td>\n",
       "      <td>-1.274203e-35</td>\n",
       "      <td>0.0</td>\n",
       "    </tr>\n",
       "    <tr>\n",
       "      <th>4</th>\n",
       "      <td>1.200466e-06</td>\n",
       "      <td>1.722573e-11</td>\n",
       "      <td>3.589239e-16</td>\n",
       "      <td>2.533735e-18</td>\n",
       "      <td>-8.015343e-35</td>\n",
       "      <td>-5.816456e-24</td>\n",
       "      <td>2.060435e-35</td>\n",
       "      <td>0.0</td>\n",
       "    </tr>\n",
       "    <tr>\n",
       "      <th>...</th>\n",
       "      <td>...</td>\n",
       "      <td>...</td>\n",
       "      <td>...</td>\n",
       "      <td>...</td>\n",
       "      <td>...</td>\n",
       "      <td>...</td>\n",
       "      <td>...</td>\n",
       "      <td>...</td>\n",
       "    </tr>\n",
       "    <tr>\n",
       "      <th>95</th>\n",
       "      <td>6.468783e-06</td>\n",
       "      <td>8.214043e-11</td>\n",
       "      <td>2.200449e-14</td>\n",
       "      <td>2.130184e-14</td>\n",
       "      <td>6.404784e-28</td>\n",
       "      <td>1.519915e-19</td>\n",
       "      <td>-5.095622e-28</td>\n",
       "      <td>9.0</td>\n",
       "    </tr>\n",
       "    <tr>\n",
       "      <th>96</th>\n",
       "      <td>2.810488e-06</td>\n",
       "      <td>8.051830e-12</td>\n",
       "      <td>4.649217e-16</td>\n",
       "      <td>8.548272e-17</td>\n",
       "      <td>-3.288944e-33</td>\n",
       "      <td>2.182006e-22</td>\n",
       "      <td>-2.019328e-32</td>\n",
       "      <td>9.0</td>\n",
       "    </tr>\n",
       "    <tr>\n",
       "      <th>97</th>\n",
       "      <td>1.862030e-06</td>\n",
       "      <td>2.152441e-11</td>\n",
       "      <td>6.324359e-15</td>\n",
       "      <td>2.253818e-15</td>\n",
       "      <td>1.168147e-29</td>\n",
       "      <td>5.872693e-21</td>\n",
       "      <td>-6.538515e-30</td>\n",
       "      <td>9.0</td>\n",
       "    </tr>\n",
       "    <tr>\n",
       "      <th>98</th>\n",
       "      <td>1.579390e-06</td>\n",
       "      <td>2.045441e-11</td>\n",
       "      <td>7.699110e-15</td>\n",
       "      <td>7.059244e-15</td>\n",
       "      <td>9.777160e-29</td>\n",
       "      <td>1.816453e-20</td>\n",
       "      <td>6.757334e-29</td>\n",
       "      <td>9.0</td>\n",
       "    </tr>\n",
       "    <tr>\n",
       "      <th>99</th>\n",
       "      <td>1.738677e-06</td>\n",
       "      <td>3.901371e-12</td>\n",
       "      <td>4.522435e-15</td>\n",
       "      <td>1.873997e-15</td>\n",
       "      <td>7.335441e-30</td>\n",
       "      <td>3.298202e-21</td>\n",
       "      <td>-8.164324e-31</td>\n",
       "      <td>9.0</td>\n",
       "    </tr>\n",
       "  </tbody>\n",
       "</table>\n",
       "<p>100 rows × 8 columns</p>\n",
       "</div>"
      ],
      "text/plain": [
       "            phi0          phi1          phi2          phi3          phi4  \\\n",
       "0   1.073741e-06  2.971326e-11  1.802183e-15  5.986776e-16  1.653600e-32   \n",
       "1  -7.975035e-07  1.096280e-11  1.721708e-17  1.490124e-16 -1.348653e-32   \n",
       "2   7.754815e-07  2.773352e-11  8.959879e-16  2.100564e-16 -8.934321e-32   \n",
       "3   1.650554e-06  1.948070e-11  1.493559e-18  3.751338e-18  4.341305e-35   \n",
       "4   1.200466e-06  1.722573e-11  3.589239e-16  2.533735e-18 -8.015343e-35   \n",
       "..           ...           ...           ...           ...           ...   \n",
       "95  6.468783e-06  8.214043e-11  2.200449e-14  2.130184e-14  6.404784e-28   \n",
       "96  2.810488e-06  8.051830e-12  4.649217e-16  8.548272e-17 -3.288944e-33   \n",
       "97  1.862030e-06  2.152441e-11  6.324359e-15  2.253818e-15  1.168147e-29   \n",
       "98  1.579390e-06  2.045441e-11  7.699110e-15  7.059244e-15  9.777160e-29   \n",
       "99  1.738677e-06  3.901371e-12  4.522435e-15  1.873997e-15  7.335441e-30   \n",
       "\n",
       "            phi5          phi6  classe  \n",
       "0   1.545063e-21 -7.442103e-31     0.0  \n",
       "1   2.476004e-22  1.084656e-32     0.0  \n",
       "2   4.025988e-22 -3.349150e-32     0.0  \n",
       "3   9.821881e-24 -1.274203e-35     0.0  \n",
       "4  -5.816456e-24  2.060435e-35     0.0  \n",
       "..           ...           ...     ...  \n",
       "95  1.519915e-19 -5.095622e-28     9.0  \n",
       "96  2.182006e-22 -2.019328e-32     9.0  \n",
       "97  5.872693e-21 -6.538515e-30     9.0  \n",
       "98  1.816453e-20  6.757334e-29     9.0  \n",
       "99  3.298202e-21 -8.164324e-31     9.0  \n",
       "\n",
       "[100 rows x 8 columns]"
      ]
     },
     "execution_count": 2,
     "metadata": {},
     "output_type": "execute_result"
    }
   ],
   "source": [
    "data = pd.read_csv(\"numbers.csv\")\n",
    "data"
   ]
  },
  {
   "cell_type": "code",
   "execution_count": 3,
   "id": "229a35f3",
   "metadata": {},
   "outputs": [],
   "source": [
    "X = data.iloc[:,:-1].values\n",
    "Y = data.iloc[:,-1].values"
   ]
  },
  {
   "cell_type": "code",
   "execution_count": 6,
   "id": "470a4e90",
   "metadata": {},
   "outputs": [],
   "source": [
    "X_train, X_test, Y_train, Y_test = train_test_split(X, Y, test_size = 0.2)"
   ]
  },
  {
   "cell_type": "code",
   "execution_count": 11,
   "id": "f6f9a366",
   "metadata": {},
   "outputs": [],
   "source": [
    "RN = MLPClassifier(activation='logistic', solver='sgd', hidden_layer_sizes=(\n",
    "    3,), max_iter=1000)\n",
    "RN.fit(X_train, Y_train)\n",
    "\n",
    "y_pred = rn.predict(X_test)"
   ]
  },
  {
   "cell_type": "code",
   "execution_count": 9,
   "id": "86d25d11",
   "metadata": {},
   "outputs": [
    {
     "data": {
      "text/plain": [
       "array([9., 9., 9., 9., 9., 9., 9., 9., 9., 9., 9., 9., 9., 9., 9., 9., 9.,\n",
       "       9., 9., 9.])"
      ]
     },
     "execution_count": 9,
     "metadata": {},
     "output_type": "execute_result"
    }
   ],
   "source": [
    "y_pred"
   ]
  },
  {
   "cell_type": "code",
   "execution_count": 10,
   "id": "291cdb58",
   "metadata": {},
   "outputs": [
    {
     "data": {
      "text/plain": [
       "array([7., 8., 8., 6., 4., 4., 4., 1., 3., 4., 5., 2., 0., 4., 2., 2., 5.,\n",
       "       3., 9., 6.])"
      ]
     },
     "execution_count": 10,
     "metadata": {},
     "output_type": "execute_result"
    }
   ],
   "source": [
    "Y_test"
   ]
  },
  {
   "cell_type": "code",
   "execution_count": 14,
   "id": "9cc33b36",
   "metadata": {},
   "outputs": [
    {
     "name": "stdout",
     "output_type": "stream",
     "text": [
      "taux de classification: 5.0%\n",
      "taux d'erreur: 95.0%\n"
     ]
    }
   ],
   "source": [
    "score = RN.score(X_test,Y_test)\n",
    "print(f'taux de classification: {score*100}%')\n",
    "print(f\"taux d'erreur: {100-score*100}%\")"
   ]
  },
  {
   "cell_type": "code",
   "execution_count": null,
   "id": "8c961375",
   "metadata": {},
   "outputs": [],
   "source": []
  }
 ],
 "metadata": {
  "kernelspec": {
   "display_name": "Python 3 (ipykernel)",
   "language": "python",
   "name": "python3"
  },
  "language_info": {
   "codemirror_mode": {
    "name": "ipython",
    "version": 3
   },
   "file_extension": ".py",
   "mimetype": "text/x-python",
   "name": "python",
   "nbconvert_exporter": "python",
   "pygments_lexer": "ipython3",
   "version": "3.9.12"
  }
 },
 "nbformat": 4,
 "nbformat_minor": 5
}
