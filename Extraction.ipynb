{
 "cells": [
  {
   "cell_type": "markdown",
   "id": "95ff15cd",
   "metadata": {},
   "source": [
    "# Library"
   ]
  },
  {
   "cell_type": "code",
   "execution_count": null,
   "id": "cf0fdfa4",
   "metadata": {},
   "outputs": [],
   "source": [
    "import cv2 as cv\n",
    "import numpy as np\n",
    "import math"
   ]
  },
  {
   "cell_type": "markdown",
   "id": "d0ad4415",
   "metadata": {},
   "source": [
    "# Moment de HU"
   ]
  },
  {
   "cell_type": "code",
   "execution_count": 4,
   "id": "b17109d6",
   "metadata": {},
   "outputs": [],
   "source": [
    "# le moment d'ordre p ,q\n",
    "def momemtpq(ib, p, q):\n",
    "    s = 0\n",
    "    h,l = ib.shape\n",
    "    for x in range(h):\n",
    "        for y in range(l):\n",
    "            s = s + (x**p)*(y**q)*ib[x, y]\n",
    "    return s\n",
    "\n",
    "# moments centraux\n",
    "def mupq(ib, p, q):\n",
    "    mu = 0\n",
    "    l,h = ib.shape\n",
    "    x_ = momemtpq(ib, 1, 0)/momemtpq(ib, 0, 0)\n",
    "    y_ = momemtpq(ib, 0, 1)/momemtpq(ib, 0, 0)\n",
    "    for x in range(l):\n",
    "        for y in range(h):\n",
    "            mu = mu + (((x-x_)**p)*((y-y_)**q))*ib[x, y]\n",
    "    return mu\n",
    "\n",
    "\n",
    "# Les moments centraux normalisés\n",
    "def alpha_pq(ib, p, q):\n",
    "    lambda_ = ((p+q+1)/2) + 1\n",
    "    alpha = mupq(ib, p, q)/(mupq(ib, 0, 0)**lambda_)\n",
    "    return alpha;\n",
    "\n",
    "\n",
    "def momentHU(ib,class_num):\n",
    "    phi = np.zeros([8], dtype=float)\n",
    "    \n",
    "    a_0_2 = alpha_pq(ib, 0, 2)\n",
    "    a_0_3 = alpha_pq(ib, 0, 3)\n",
    "    a_1_1 = alpha_pq(ib, 1, 1)\n",
    "    a_1_2 = alpha_pq(ib, 1, 2)\n",
    "    a_2_0 = alpha_pq(ib, 2, 0)\n",
    "    a_2_1 = alpha_pq(ib, 2, 1)\n",
    "    a_3_0 = alpha_pq(ib, 3, 0)\n",
    "    \n",
    "    phi[0] = a_2_0 - a_0_2\n",
    "    phi[1] = (a_2_0 - a_0_2)**2 + (4*a_1_1)**2\n",
    "    phi[2] = (a_3_0 - a_1_2)**2 +(3*a_1_2 - a_0_3)**2\n",
    "    phi[3] = (a_3_0 + a_1_2)**2 + (a_2_1+a_0_3)**2\n",
    "    \n",
    "    phi[4] = (a_3_0 - 3*a_1_2)*(a_3_0+a_1_2)*((a_3_0+a_1_2)**2 - 3*(a_2_1+a_0_3)**2) +(3*a_2_1-a_0_3)*(a_2_1+a_0_3)*(3*(a_3_0+a_1_2)**2-((a_2_1+a_0_3)**2))\n",
    "   \n",
    "    phi[5] = (a_2_0-a_0_2)*((a_3_0+a_1_2)**2-(a_2_1+a_0_3)**2)+4*a_1_1*(a_3_0+a_1_2)*(a_2_1+a_0_3)\n",
    "   \n",
    "    phi[6] = (3*a_2_1-a_3_0)*(a_3_0+a_1_2)*((a_3_0+a_1_2)**2-3*((a_2_1+a_0_3)**2))+(3*a_1_2-a_0_3)*(a_2_1+a_0_3)*((3*(a_3_0+a_1_2)**2)-((a_2_1+a_0_3)**2))\n",
    "    phi[7] = class_num\n",
    "    return phi;\n"
   ]
  },
  {
   "cell_type": "code",
   "execution_count": 3,
   "id": "699cdaf2",
   "metadata": {},
   "outputs": [],
   "source": [
    "def momentHU_rn(ib):\n",
    "    phi = np.zeros([7], dtype=float)\n",
    "    \n",
    "    a_0_2 = alpha_pq(ib, 0, 2)\n",
    "    a_0_3 = alpha_pq(ib, 0, 3)\n",
    "    a_1_1 = alpha_pq(ib, 1, 1)\n",
    "    a_1_2 = alpha_pq(ib, 1, 2)\n",
    "    a_2_0 = alpha_pq(ib, 2, 0)\n",
    "    a_2_1 = alpha_pq(ib, 2, 1)\n",
    "    a_3_0 = alpha_pq(ib, 3, 0)\n",
    "    \n",
    "    phi[0] = a_2_0 - a_0_2\n",
    "    phi[1] = (a_2_0 - a_0_2)**2 + (4*a_1_1)**2\n",
    "    phi[2] = (a_3_0 - a_1_2)**2 +(3*a_1_2 - a_0_3)**2\n",
    "    phi[3] = (a_3_0 + a_1_2)**2 + (a_2_1+a_0_3)**2\n",
    "    \n",
    "    phi[4] = (a_3_0 - 3*a_1_2)*(a_3_0+a_1_2)*((a_3_0+a_1_2)**2 - 3*(a_2_1+a_0_3)**2) +(3*a_2_1-a_0_3)*(a_2_1+a_0_3)*(3*(a_3_0+a_1_2)**2-((a_2_1+a_0_3)**2))\n",
    "   \n",
    "    phi[5] = (a_2_0-a_0_2)*((a_3_0+a_1_2)**2-(a_2_1+a_0_3)**2)+4*a_1_1*(a_3_0+a_1_2)*(a_2_1+a_0_3)\n",
    "   \n",
    "    phi[6] = (3*a_2_1-a_3_0)*(a_3_0+a_1_2)*((a_3_0+a_1_2)**2-3*((a_2_1+a_0_3)**2))+(3*a_1_2-a_0_3)*(a_2_1+a_0_3)*((3*(a_3_0+a_1_2)**2)-((a_2_1+a_0_3)**2))\n",
    "    return phi;"
   ]
  },
  {
   "cell_type": "markdown",
   "id": "a1c2fdd1",
   "metadata": {},
   "source": [
    "# Moment de tchibichef"
   ]
  },
  {
   "cell_type": "code",
   "execution_count": null,
   "id": "043c01ad",
   "metadata": {},
   "outputs": [],
   "source": [
    "# 4 squzred-\n",
    "\n",
    "def squared_norm(n,N):\n",
    "    stop1 = n+N\n",
    "    stop2 = N -n -1\n",
    "    sum1 = 1\n",
    "    for i in range(1,stop1+1):\n",
    "        sum1 = sum1*i\n",
    "    sum2 = 1\n",
    "    for i in range(1,stop2+1):\n",
    "        sum2 = sum2*i\n",
    "    sum3 = 2 * n + 1\n",
    "    pnN = sum1/(sum3*sum2)\n",
    "    return pnN\n",
    "\n",
    "def pochhammer(a,k):\n",
    "    a = 1\n",
    "    for i in range(1,k+1):\n",
    "        a = a*(a + (i-1))\n",
    "    return a\n",
    "\n",
    "\n",
    "def polynomial (n,M,x):\n",
    "    \n",
    "    t1 = pochhammer(1-M,n)\n",
    "    t2 = math.sqrt( squared_norm(n,M) )\n",
    "    sum = 0\n",
    "    for i in range(0,n+1):\n",
    "        t3 = pochhammer(-n,i)\n",
    "        t4 = pochhammer(-x,i)\n",
    "        t5 = pochhammer(1+n,i)\n",
    "        t6 = math.factorial(i)**2\n",
    "        t7 = pochhammer(1-M,i)\n",
    "        sum =sum+((t3*t4*t5)/(t6*t7))\n",
    "    sum = (t1/t2)*sum        \n",
    "    \n",
    "    return sum\n",
    "\n",
    "def momentNM(img, n,m):\n",
    "    sum = 0\n",
    "    M,N = img.shape\n",
    "    for i in  range(0,M):\n",
    "        for j in  range(0,N):\n",
    "            t1 = polynomial(i,n,M)\n",
    "            t2 = polynomial(j,n,M)\n",
    "            sum = sum +  (t1*t2*img[i,j])\n",
    "    return sum\n",
    "    \n",
    "def tchebichef(img, ordre):\n",
    "    T = []\n",
    "    for i in range(0, ordre+1):\n",
    "        for j in range(0, ordre+1):\n",
    "            if (i+j) <=ordre:\n",
    "                T.append(momentNM(img, i, j))\n",
    "    return T\n"
   ]
  }
 ],
 "metadata": {
  "kernelspec": {
   "display_name": "Python 3 (ipykernel)",
   "language": "python",
   "name": "python3"
  },
  "language_info": {
   "codemirror_mode": {
    "name": "ipython",
    "version": 3
   },
   "file_extension": ".py",
   "mimetype": "text/x-python",
   "name": "python",
   "nbconvert_exporter": "python",
   "pygments_lexer": "ipython3",
   "version": "3.9.12"
  },
  "vscode": {
   "interpreter": {
    "hash": "56a854edc61c4c9289dbe99e26bd92095710d3e25e8b605dd86e138066f44f16"
   }
  }
 },
 "nbformat": 4,
 "nbformat_minor": 5
}
